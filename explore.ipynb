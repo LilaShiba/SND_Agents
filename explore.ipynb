{
 "cells": [
  {
   "cell_type": "markdown",
   "metadata": {},
   "source": [
    "# System Neural Diversity \n",
    "## An Ensemble"
   ]
  },
  {
   "cell_type": "code",
   "execution_count": 1,
   "metadata": {},
   "outputs": [],
   "source": [
    "from utils.pack import Pack\n",
    "from utils.agent import Agent\n",
    "from utils.metrics import ThoughtDiversity\n",
    "from collections import defaultdict\n",
    "import networkx as nx"
   ]
  },
  {
   "cell_type": "markdown",
   "metadata": {},
   "source": [
    "## Single Agent"
   ]
  },
  {
   "cell_type": "code",
   "execution_count": 2,
   "metadata": {},
   "outputs": [],
   "source": [
    "embedding_params = [\"facebook-dpr-ctx_encoder-multiset-base\", 200, 25, 0.9]\n",
    "agent_hilbert = Agent('agent_hilbert_space',\n",
    "                      'documents/HilbertSpaceMulti.pdf', 1, embedding_params, False)\n",
    "agent_hilbert.chat_bot.one_question(\n",
    "    \"Imagine how hilbert space could be used in a neural network for neuron representation?\")"
   ]
  },
  {
   "cell_type": "markdown",
   "metadata": {},
   "source": [
    "## Pack"
   ]
  },
  {
   "cell_type": "code",
   "execution_count": 3,
   "metadata": {},
   "outputs": [
    {
     "name": "stdout",
     "output_type": "stream",
     "text": [
      "🔥  Conjuring up agent_ltoa  🔥 \n",
      "\n",
      "🧙 creating course  🧙\n",
      "\n",
      "🔮 creating encoder  🔮 \n",
      "loading agent...\n",
      "agent loaded\n",
      "\n",
      "🧚 creating chat_bot for  🧚\n",
      "\n",
      "the path  🌈 being used for agent_ltoa is chroma_db/agent_ltoa\n",
      "\n",
      "🔥  Conjuring up agent_snd  🔥 \n",
      "\n",
      "🧙 creating course  🧙\n",
      "\n",
      "🔮 creating encoder  🔮 \n",
      "loading agent...\n",
      "agent loaded\n",
      "\n",
      "🧚 creating chat_bot for  🧚\n",
      "\n",
      "the path  🌈 being used for agent_snd is chroma_db/agent_snd\n",
      "\n",
      "🔥  Conjuring up agent_foundation  🔥 \n",
      "\n",
      "🧙 creating course  🧙\n",
      "\n",
      "🔮 creating encoder  🔮 \n",
      "loading agent...\n",
      "agent loaded\n",
      "\n",
      "🧚 creating chat_bot for  🧚\n",
      "\n",
      "the path  🌈 being used for agent_foundation is chroma_db/agent_foundation\n",
      "\n",
      "🔥  Conjuring up agent_quant  🔥 \n",
      "\n",
      "🧙 creating course  🧙\n",
      "\n",
      "🔮 creating encoder  🔮 \n",
      "loading agent...\n",
      "agent loaded\n",
      "\n",
      "🧚 creating chat_bot for  🧚\n",
      "\n",
      "the path  🌈 being used for agent_quant is chroma_db/agent_quant\n",
      "\n",
      "🔥  Conjuring up agent_norbert  🔥 \n",
      "\n",
      "🧙 creating course  🧙\n",
      "\n",
      "🔮 creating encoder  🔮 \n",
      "loading agent...\n",
      "agent loaded\n",
      "\n",
      "🧚 creating chat_bot for  🧚\n",
      "\n",
      "the path  🌈 being used for agent_norbert is chroma_db/agent_norbert\n",
      "\n",
      "🔥  Conjuring up agent_cot  🔥 \n",
      "\n",
      "🧙 creating course  🧙\n",
      "\n",
      "🔮 creating encoder  🔮 \n",
      "loading agent...\n",
      "agent loaded\n",
      "\n",
      "🧚 creating chat_bot for  🧚\n",
      "\n",
      "the path  🌈 being used for agent_cot is chroma_db/agent_cot\n",
      "\n",
      "waking up agent agent_ltoa\n",
      "\n",
      "waking up agent agent_snd\n",
      "\n",
      "waking up agent agent_foundation\n",
      "\n",
      "waking up agent agent_quant\n",
      "\n",
      "waking up agent agent_norbert\n",
      "\n",
      "waking up agent agent_cot\n",
      "\n"
     ]
    }
   ],
   "source": [
    "learning_to_act = \"chroma_db/agent_ltoa\"\n",
    "system_neural_diversity = \"chroma_db/agent_snd\"\n",
    "foundational_models = \"chroma_db/agent_foundation\"\n",
    "norbet_cog = \"chroma_db/agent_norbert\"\n",
    "viz_quant = \"chroma_db/agent_quant\"\n",
    "cot_path = \"chroma_db/agent_cot\"\n",
    "\n",
    "embedding_params = [\n",
    "    [\"facebook-dpr-ctx_encoder-multiset-base\", 200, 25, 0.9],\n",
    "    [\"facebook-dpr-ctx_encoder-multiset-base\", 200, 25, 0.1],\n",
    "    [\"facebook-dpr-ctx_encoder-multiset-base\", 200, 25, 0.5],\n",
    "    [\"facebook-dpr-ctx_encoder-multiset-base\", 200, 25, 0.9],\n",
    "    [\"facebook-dpr-ctx_encoder-multiset-base\", 200, 25, 0.1],\n",
    "    [\"facebook-dpr-ctx_encoder-multiset-base\", 200, 25, 0.5],\n",
    "    [\"facebook-dpr-ctx_encoder-multiset-base\", 200, 25, 0.8]\n",
    "]\n",
    "# name, path, cot_type, new_bool\n",
    "agent_specs = [\n",
    "    ['agent_ltoa', learning_to_act, 0, True],\n",
    "    ['agent_snd', system_neural_diversity, 0, True],\n",
    "    ['agent_foundation', foundational_models, 0, True],\n",
    "    ['agent_quant', viz_quant, 0, True],\n",
    "    ['agent_norbert', norbet_cog, 0, True],\n",
    "    ['agent_cot', cot_path, 0, True]\n",
    "]\n",
    "\n",
    "test_pack = Pack(agent_specs, embedding_params)"
   ]
  },
  {
   "cell_type": "code",
   "execution_count": 4,
   "metadata": {},
   "outputs": [
    {
     "data": {
      "application/vnd.jupyter.widget-view+json": {
       "model_id": "445a1dd0e11e49059721d3ba990b6dbe",
       "version_major": 2,
       "version_minor": 0
      },
      "text/plain": [
       "Batches:   0%|          | 0/1 [00:00<?, ?it/s]"
      ]
     },
     "metadata": {},
     "output_type": "display_data"
    },
    {
     "data": {
      "application/vnd.jupyter.widget-view+json": {
       "model_id": "75216d223af74528af533dcadd02b249",
       "version_major": 2,
       "version_minor": 0
      },
      "text/plain": [
       "Batches:   0%|          | 0/1 [00:00<?, ?it/s]"
      ]
     },
     "metadata": {},
     "output_type": "display_data"
    },
    {
     "data": {
      "application/vnd.jupyter.widget-view+json": {
       "model_id": "a283b0905d6f4070976e02317ba6f38d",
       "version_major": 2,
       "version_minor": 0
      },
      "text/plain": [
       "Batches:   0%|          | 0/1 [00:00<?, ?it/s]"
      ]
     },
     "metadata": {},
     "output_type": "display_data"
    },
    {
     "data": {
      "application/vnd.jupyter.widget-view+json": {
       "model_id": "649b7d4bf18b46879d1efaac48c08f68",
       "version_major": 2,
       "version_minor": 0
      },
      "text/plain": [
       "Batches:   0%|          | 0/1 [00:00<?, ?it/s]"
      ]
     },
     "metadata": {},
     "output_type": "display_data"
    },
    {
     "data": {
      "application/vnd.jupyter.widget-view+json": {
       "model_id": "71b1d32ce6b54cac862a4a14351eb85b",
       "version_major": 2,
       "version_minor": 0
      },
      "text/plain": [
       "Batches:   0%|          | 0/1 [00:00<?, ?it/s]"
      ]
     },
     "metadata": {},
     "output_type": "display_data"
    },
    {
     "data": {
      "application/vnd.jupyter.widget-view+json": {
       "model_id": "f2a8b28383c847a28b2a68b8840010b2",
       "version_major": 2,
       "version_minor": 0
      },
      "text/plain": [
       "Batches:   0%|          | 0/1 [00:00<?, ?it/s]"
      ]
     },
     "metadata": {},
     "output_type": "display_data"
    },
    {
     "name": "stdout",
     "output_type": "stream",
     "text": [
      "monte carlo finished\n",
      "defaultdict(None, {'agent_ltoa': ['agent_snd', 'agent_foundation'], 'agent_snd': ['agent_ltoa', 'agent_foundation'], 'agent_foundation': ['agent_ltoa', 'agent_snd'], 'agent_quant': ['agent_ltoa', 'agent_snd', 'agent_foundation'], 'agent_norbert': ['agent_ltoa', 'agent_snd', 'agent_foundation'], 'agent_cot': ['agent_ltoa', 'agent_snd', 'agent_foundation']})\n"
     ]
    }
   ],
   "source": [
    "edges = test_pack.update_weighted_edges(\n",
    "    question=\"Imagine how a neuron for a neural network may be reimagined based on the text.\",\n",
    "    weighted_adj_matrix=None, k=3)\n",
    "print(edges)"
   ]
  },
  {
   "cell_type": "code",
   "execution_count": 5,
   "metadata": {},
   "outputs": [
    {
     "data": {
      "image/png": "[encoded data removed]",
      "text/plain": [
       "<Figure size 1200x800 with 1 Axes>"
      ]
     },
     "metadata": {},
     "output_type": "display_data"
    },
    {
     "data": {
      "text/plain": [
       "<networkx.classes.graph.Graph at 0x7fe219834340>"
      ]
     },
     "execution_count": 5,
     "metadata": {},
     "output_type": "execute_result"
    }
   ],
   "source": [
    "test_pack.graph()"
   ]
  },
  {
   "cell_type": "markdown",
   "metadata": {},
   "source": [
    "test_pack.graph()"
   ]
  },
  {
   "cell_type": "markdown",
   "metadata": {},
   "source": [
    "## How weights are made"
   ]
  },
  {
   "cell_type": "code",
   "execution_count": 7,
   "metadata": {},
   "outputs": [
    {
     "data": {
      "application/vnd.jupyter.widget-view+json": {
       "model_id": "3918d764f9c74e6db285a51bae96604d",
       "version_major": 2,
       "version_minor": 0
      },
      "text/plain": [
       "Batches:   0%|          | 0/1 [00:00<?, ?it/s]"
      ]
     },
     "metadata": {},
     "output_type": "display_data"
    },
    {
     "data": {
      "application/vnd.jupyter.widget-view+json": {
       "model_id": "cfe45eddc9274f60a32d87b614d3957d",
       "version_major": 2,
       "version_minor": 0
      },
      "text/plain": [
       "Batches:   0%|          | 0/1 [00:00<?, ?it/s]"
      ]
     },
     "metadata": {},
     "output_type": "display_data"
    },
    {
     "data": {
      "application/vnd.jupyter.widget-view+json": {
       "model_id": "cb82708996324f86bee767ffe106cc3e",
       "version_major": 2,
       "version_minor": 0
      },
      "text/plain": [
       "Batches:   0%|          | 0/1 [00:00<?, ?it/s]"
      ]
     },
     "metadata": {},
     "output_type": "display_data"
    },
    {
     "data": {
      "application/vnd.jupyter.widget-view+json": {
       "model_id": "1a1988849abc4b129f40ea86e75b11af",
       "version_major": 2,
       "version_minor": 0
      },
      "text/plain": [
       "Batches:   0%|          | 0/1 [00:00<?, ?it/s]"
      ]
     },
     "metadata": {},
     "output_type": "display_data"
    },
    {
     "data": {
      "application/vnd.jupyter.widget-view+json": {
       "model_id": "f6199195a43146569121ebb160fbcd80",
       "version_major": 2,
       "version_minor": 0
      },
      "text/plain": [
       "Batches:   0%|          | 0/1 [00:00<?, ?it/s]"
      ]
     },
     "metadata": {},
     "output_type": "display_data"
    },
    {
     "data": {
      "application/vnd.jupyter.widget-view+json": {
       "model_id": "bd288a23c3ae4c8683ae6ad35d02ec37",
       "version_major": 2,
       "version_minor": 0
      },
      "text/plain": [
       "Batches:   0%|          | 0/1 [00:00<?, ?it/s]"
      ]
     },
     "metadata": {},
     "output_type": "display_data"
    },
    {
     "data": {
      "text/plain": [
       "[[2.9845613733269065,\n",
       "  2.855614368313409,\n",
       "  2.9945206425059134,\n",
       "  3.026799104097064,\n",
       "  2.8735120632919946,\n",
       "  3.011056186037579],\n",
       " [19.777825251839783,\n",
       "  17.38511479098854,\n",
       "  19.975782053609095,\n",
       "  20.63108881852887,\n",
       "  17.699069424169462,\n",
       "  20.308838513356523],\n",
       " [0.06004415011037528,\n",
       "  0.003589132243527777,\n",
       "  0.0008566467917445638,\n",
       "  0.05587748344370862,\n",
       "  0.0021831465495303908,\n",
       "  0.056666666666666664,\n",
       "  0.05957446808510638,\n",
       "  0.004166666666666667,\n",
       "  0.05789473684210526,\n",
       "  0.003175062578222779,\n",
       "  0.052500000000000005,\n",
       "  0.0026145071690490307,\n",
       "  0.05540780141843971,\n",
       "  0.0019311094622023605,\n",
       "  0.0537280701754386]]"
      ]
     },
     "execution_count": 7,
     "metadata": {},
     "output_type": "execute_result"
    }
   ],
   "source": [
    "metrics = ThoughtDiversity(test_pack)\n",
    "metrics.monte_carlo_sim(\n",
    "    question=\"Imagine how AI agents be desinged to be creative?\")"
   ]
  },
  {
   "cell_type": "code",
   "execution_count": 8,
   "metadata": {},
   "outputs": [
    {
     "data": {
      "text/plain": [
       "[2.9845613733269065,\n",
       " 2.855614368313409,\n",
       " 2.9945206425059134,\n",
       " 3.026799104097064,\n",
       " 2.8735120632919946,\n",
       " 3.011056186037579]"
      ]
     },
     "execution_count": 8,
     "metadata": {},
     "output_type": "execute_result"
    }
   ],
   "source": [
    "metrics.shannon_entropy_scores"
   ]
  },
  {
   "cell_type": "code",
   "execution_count": 11,
   "metadata": {},
   "outputs": [
    {
     "data": {
      "text/plain": [
       "[19.777825251839783,\n",
       " 17.38511479098854,\n",
       " 19.975782053609095,\n",
       " 20.63108881852887,\n",
       " 17.699069424169462,\n",
       " 20.308838513356523]"
      ]
     },
     "execution_count": 11,
     "metadata": {},
     "output_type": "execute_result"
    }
   ],
   "source": [
    "metrics.true_diversity_scores"
   ]
  },
  {
   "cell_type": "code",
   "execution_count": 13,
   "metadata": {},
   "outputs": [
    {
     "data": {
      "text/plain": [
       "[0.06004415011037528,\n",
       " 0.003589132243527777,\n",
       " 0.0008566467917445638,\n",
       " 0.05587748344370862,\n",
       " 0.0021831465495303908,\n",
       " 0.056666666666666664,\n",
       " 0.05957446808510638,\n",
       " 0.004166666666666667,\n",
       " 0.05789473684210526,\n",
       " 0.003175062578222779,\n",
       " 0.052500000000000005,\n",
       " 0.0026145071690490307,\n",
       " 0.05540780141843971,\n",
       " 0.0019311094622023605,\n",
       " 0.0537280701754386]"
      ]
     },
     "execution_count": 13,
     "metadata": {},
     "output_type": "execute_result"
    }
   ],
   "source": [
    "metrics.wasserstein_metrics"
   ]
  },
  {
   "cell_type": "code",
   "execution_count": null,
   "metadata": {},
   "outputs": [],
   "source": []
  }
 ],
 "metadata": {
  "kernelspec": {
   "display_name": "nlp",
   "language": "python",
   "name": "python3"
  },
  "language_info": {
   "codemirror_mode": {
    "name": "ipython",
    "version": 3
   },
   "file_extension": ".py",
   "mimetype": "text/x-python",
   "name": "python",
   "nbconvert_exporter": "python",
   "pygments_lexer": "ipython3",
   "version": "3.10.12"
  }
 },
 "nbformat": 4,
 "nbformat_minor": 2
}
