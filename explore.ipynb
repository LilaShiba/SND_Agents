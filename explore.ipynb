{
 "cells": [
  {
   "cell_type": "markdown",
   "metadata": {},
   "source": [
    "# System Neural Diversity \n",
    "## An Ensemble"
   ]
  },
  {
   "cell_type": "code",
   "execution_count": 1,
   "metadata": {},
   "outputs": [],
   "source": [
    "from utils.pack import Pack\n",
    "from utils.agent import Agent\n",
    "from utils.metrics import ThoughtDiversity\n",
    "from collections import defaultdict\n",
    "import networkx as nx"
   ]
  },
  {
   "cell_type": "markdown",
   "metadata": {},
   "source": [
    "## Single Agent"
   ]
  },
  {
   "cell_type": "code",
   "execution_count": 2,
   "metadata": {},
   "outputs": [],
   "source": [
    "# embedding_params = [\"facebook-dpr-ctx_encoder-multiset-base\", 200, 25, 0.9]\n",
    "# agent_hilbert = Agent('agent_hilbert_space',\n",
    "#                       'documents/HilbertSpaceMulti.pdf', 1, embedding_params, False)\n",
    "# agent_hilbert.chat_bot.one_question(\n",
    "#     \"Imagine how hilbert space could be used in a neural network for neuron representation?\")"
   ]
  },
  {
   "cell_type": "markdown",
   "metadata": {},
   "source": [
    "## Pack"
   ]
  },
  {
   "cell_type": "code",
   "execution_count": 3,
   "metadata": {},
   "outputs": [
    {
     "name": "stdout",
     "output_type": "stream",
     "text": [
      "🔥  Conjuring up agent_ltoa  🔥 \n",
      "\n",
      "🧙 creating course  🧙\n",
      "\n",
      "🔮 creating encoder  🔮 \n",
      "loading agent_ltoa ...\n",
      "agent agent_ltoa loaded\n",
      "\n",
      "🧚 creating chat_bot   🧚\n",
      "\n",
      "the path  being used for agent_ltoa is chroma_db/agent_ltoa\n",
      "🌈 \n",
      "🔥  Conjuring up agent_snd  🔥 \n",
      "\n",
      "🧙 creating course  🧙\n",
      "\n",
      "🔮 creating encoder  🔮 \n",
      "loading agent_snd ...\n",
      "agent agent_snd loaded\n",
      "\n",
      "🧚 creating chat_bot   🧚\n",
      "\n",
      "the path  being used for agent_snd is chroma_db/agent_snd\n",
      "🌈 \n",
      "🔥  Conjuring up agent_foundation  🔥 \n",
      "\n",
      "🧙 creating course  🧙\n",
      "\n",
      "🔮 creating encoder  🔮 \n",
      "loading agent_foundation ...\n",
      "agent agent_foundation loaded\n",
      "\n",
      "🧚 creating chat_bot   🧚\n",
      "\n",
      "the path  being used for agent_foundation is chroma_db/agent_foundation\n",
      "🌈 \n",
      "🔥  Conjuring up agent_quant  🔥 \n",
      "\n",
      "🧙 creating course  🧙\n",
      "\n",
      "🔮 creating encoder  🔮 \n",
      "loading agent_quant ...\n",
      "agent agent_quant loaded\n",
      "\n",
      "🧚 creating chat_bot   🧚\n",
      "\n",
      "the path  being used for agent_quant is chroma_db/agent_quant\n",
      "🌈 \n",
      "🔥  Conjuring up agent_norbert  🔥 \n",
      "\n",
      "🧙 creating course  🧙\n",
      "\n",
      "🔮 creating encoder  🔮 \n",
      "loading agent_norbert ...\n",
      "agent agent_norbert loaded\n",
      "\n",
      "🧚 creating chat_bot   🧚\n",
      "\n",
      "the path  being used for agent_norbert is chroma_db/agent_norbert\n",
      "🌈 \n",
      "🔥  Conjuring up agent_cot  🔥 \n",
      "\n",
      "🧙 creating course  🧙\n",
      "\n",
      "🔮 creating encoder  🔮 \n",
      "loading agent_cot ...\n",
      "agent agent_cot loaded\n",
      "\n",
      "🧚 creating chat_bot   🧚\n",
      "\n",
      "the path  being used for agent_cot is chroma_db/agent_cot\n",
      "🌈 \n",
      "waking up agent agent_ltoa\n",
      "\n",
      "waking up agent agent_snd\n",
      "\n",
      "waking up agent agent_foundation\n",
      "\n",
      "waking up agent agent_quant\n",
      "\n",
      "waking up agent agent_norbert\n",
      "\n",
      "waking up agent agent_cot\n",
      "\n"
     ]
    }
   ],
   "source": [
    "learning_to_act = \"chroma_db/agent_ltoa\"\n",
    "system_neural_diversity = \"chroma_db/agent_snd\"\n",
    "foundational_models = \"chroma_db/agent_foundation\"\n",
    "norbet_cog = \"chroma_db/agent_norbert\"\n",
    "viz_quant = \"chroma_db/agent_quant\"\n",
    "cot_path = \"chroma_db/agent_cot\"\n",
    "\n",
    "embedding_params = [\n",
    "    [\"facebook-dpr-ctx_encoder-multiset-base\", 200, 25, 0.9],\n",
    "    [\"facebook-dpr-ctx_encoder-multiset-base\", 200, 25, 0.1],\n",
    "    [\"facebook-dpr-ctx_encoder-multiset-base\", 200, 25, 0.5],\n",
    "    [\"facebook-dpr-ctx_encoder-multiset-base\", 200, 25, 0.9],\n",
    "    [\"facebook-dpr-ctx_encoder-multiset-base\", 200, 25, 0.1],\n",
    "    [\"facebook-dpr-ctx_encoder-multiset-base\", 200, 25, 0.5],\n",
    "    [\"facebook-dpr-ctx_encoder-multiset-base\", 200, 25, 0.8]\n",
    "]\n",
    "# name, path, cot_type, new_bool\n",
    "agent_specs = [\n",
    "    ['agent_ltoa', learning_to_act, 0, True],\n",
    "    ['agent_snd', system_neural_diversity, 0, True],\n",
    "    ['agent_foundation', foundational_models, 0, True],\n",
    "    ['agent_quant', viz_quant, 0, True],\n",
    "    ['agent_norbert', norbet_cog, 0, True],\n",
    "    ['agent_cot', cot_path, 0, True]\n",
    "]\n",
    "\n",
    "test_pack = Pack(agent_specs, embedding_params)"
   ]
  },
  {
   "cell_type": "code",
   "execution_count": 4,
   "metadata": {},
   "outputs": [
    {
     "data": {
      "application/vnd.jupyter.widget-view+json": {
       "model_id": "84ea00aa171b4d8aa7f54e33d74666ef",
       "version_major": 2,
       "version_minor": 0
      },
      "text/plain": [
       "Batches:   0%|          | 0/1 [00:00<?, ?it/s]"
      ]
     },
     "metadata": {},
     "output_type": "display_data"
    },
    {
     "data": {
      "application/vnd.jupyter.widget-view+json": {
       "model_id": "d6968a777e50459284f00de3e24464fa",
       "version_major": 2,
       "version_minor": 0
      },
      "text/plain": [
       "Batches:   0%|          | 0/1 [00:00<?, ?it/s]"
      ]
     },
     "metadata": {},
     "output_type": "display_data"
    },
    {
     "data": {
      "application/vnd.jupyter.widget-view+json": {
       "model_id": "c3753cafd9e046f7ac07bc35d3a9d73b",
       "version_major": 2,
       "version_minor": 0
      },
      "text/plain": [
       "Batches:   0%|          | 0/1 [00:00<?, ?it/s]"
      ]
     },
     "metadata": {},
     "output_type": "display_data"
    },
    {
     "data": {
      "application/vnd.jupyter.widget-view+json": {
       "model_id": "5e956fa8672940a5b7e182cef0c5ceb0",
       "version_major": 2,
       "version_minor": 0
      },
      "text/plain": [
       "Batches:   0%|          | 0/1 [00:00<?, ?it/s]"
      ]
     },
     "metadata": {},
     "output_type": "display_data"
    },
    {
     "data": {
      "application/vnd.jupyter.widget-view+json": {
       "model_id": "950271513ca54871bd12366b80e53e78",
       "version_major": 2,
       "version_minor": 0
      },
      "text/plain": [
       "Batches:   0%|          | 0/1 [00:00<?, ?it/s]"
      ]
     },
     "metadata": {},
     "output_type": "display_data"
    },
    {
     "data": {
      "application/vnd.jupyter.widget-view+json": {
       "model_id": "5b0c71ba357e4154aa9131b253f3780c",
       "version_major": 2,
       "version_minor": 0
      },
      "text/plain": [
       "Batches:   0%|          | 0/1 [00:00<?, ?it/s]"
      ]
     },
     "metadata": {},
     "output_type": "display_data"
    }
   ],
   "source": [
    "edges = test_pack.update_edges(\n",
    "    \"Imagine how a neuron for a neural network may be reimagined based on the text.\")"
   ]
  },
  {
   "cell_type": "code",
   "execution_count": 5,
   "metadata": {},
   "outputs": [
    {
     "data": {
      "image/png": "[encoded data removed]",
      "text/plain": [
       "<Figure size 1200x800 with 1 Axes>"
      ]
     },
     "metadata": {},
     "output_type": "display_data"
    },
    {
     "name": "stdout",
     "output_type": "stream",
     "text": [
      "{'agent_ltoa': 0.15324244364613665, 'agent_cot': 0.5672005790759322, 'agent_snd': 0.525798198866067, 'agent_norbert': 0.43919809769598284, 'agent_foundation': 0.11866003422468985, 'agent_quant': 0.41395813542979554}\n"
     ]
    },
    {
     "data": {
      "text/plain": [
       "<networkx.classes.graph.Graph at 0x7fe258717b20>"
      ]
     },
     "execution_count": 5,
     "metadata": {},
     "output_type": "execute_result"
    }
   ],
   "source": [
    "test_pack.graph()"
   ]
  },
  {
   "cell_type": "code",
   "execution_count": 6,
   "metadata": {},
   "outputs": [
    {
     "data": {
      "application/vnd.jupyter.widget-view+json": {
       "model_id": "c972a92c051b4d54b888691f2ded8fbe",
       "version_major": 2,
       "version_minor": 0
      },
      "text/plain": [
       "Batches:   0%|          | 0/1 [00:00<?, ?it/s]"
      ]
     },
     "metadata": {},
     "output_type": "display_data"
    }
   ],
   "source": [
    "edges = test_pack.update_edges(\n",
    "    question=\"Imagine a redesign of a neuron\")"
   ]
  },
  {
   "cell_type": "code",
   "execution_count": null,
   "metadata": {},
   "outputs": [],
   "source": [
    "test_pack.graph()"
   ]
  },
  {
   "cell_type": "markdown",
   "metadata": {},
   "source": [
    "## Meterics = Vectors"
   ]
  },
  {
   "cell_type": "code",
   "execution_count": null,
   "metadata": {},
   "outputs": [],
   "source": [
    "# Wrapper inside Pack class now :)\n",
    "\n",
    "# from utils.metrics import ThoughtDiversity\n",
    "\n",
    "# metrics = ThoughtDiversity(test_pack)\n",
    "# metrics.monte_carlo_sim(\n",
    "#     question=\"Imagine how AI agents be desinged to be more creative?\")"
   ]
  },
  {
   "cell_type": "code",
   "execution_count": null,
   "metadata": {},
   "outputs": [],
   "source": [
    "# metrics.shannon_entropy_scores"
   ]
  },
  {
   "cell_type": "code",
   "execution_count": null,
   "metadata": {},
   "outputs": [],
   "source": [
    "# metrics.true_diversity_scores"
   ]
  },
  {
   "cell_type": "code",
   "execution_count": null,
   "metadata": {},
   "outputs": [],
   "source": [
    "# metrics.wasserstein_metrics"
   ]
  },
  {
   "cell_type": "code",
   "execution_count": null,
   "metadata": {},
   "outputs": [],
   "source": [
    "# metrics.jaccard_indexes"
   ]
  },
  {
   "cell_type": "code",
   "execution_count": null,
   "metadata": {},
   "outputs": [],
   "source": []
  }
 ],
 "metadata": {
  "kernelspec": {
   "display_name": "nlp",
   "language": "python",
   "name": "python3"
  },
  "language_info": {
   "codemirror_mode": {
    "name": "ipython",
    "version": 3
   },
   "file_extension": ".py",
   "mimetype": "text/x-python",
   "name": "python",
   "nbconvert_exporter": "python",
   "pygments_lexer": "ipython3",
   "version": "3.10.12"
  }
 },
 "nbformat": 4,
 "nbformat_minor": 2
}
