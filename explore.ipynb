{
 "cells": [
  {
   "cell_type": "markdown",
   "metadata": {},
   "source": [
    "# System Neural Diversity \n",
    "## An Ensemble"
   ]
  },
  {
   "cell_type": "code",
   "execution_count": 1,
   "metadata": {},
   "outputs": [],
   "source": [
    "from utils.pack import Pack\n",
    "from utils.agent import Agent\n",
    "from utils.metrics import ThoughtDiversity\n",
    "from collections import defaultdict\n",
    "import networkx as nx"
   ]
  },
  {
   "cell_type": "markdown",
   "metadata": {},
   "source": [
    "## Single Agent"
   ]
  },
  {
   "cell_type": "code",
   "execution_count": 2,
   "metadata": {},
   "outputs": [],
   "source": [
    "# embedding_params = [\"facebook-dpr-ctx_encoder-multiset-base\", 200, 25, 0.7]\n",
    "# agent_hilbert = Agent('agent_hilbert_space',\n",
    "#                       'documents/HilbertSpaceMulti.pdf', 1, embedding_params, False)\n",
    "# agent_hilbert.chat_bot.one_question(\"What is hilbert space?\")"
   ]
  },
  {
   "cell_type": "markdown",
   "metadata": {},
   "source": [
    "## Pack"
   ]
  },
  {
   "cell_type": "code",
   "execution_count": 3,
   "metadata": {},
   "outputs": [
    {
     "name": "stdout",
     "output_type": "stream",
     "text": [
      "🔥  Conjuring up agent_ltoa  🔥 \n",
      "\n",
      "🧙 creating course  🧙\n",
      "\n",
      "🔮 creating encoder  🔮 \n",
      "🧩 chunks created 🧩\n",
      "⚫\n",
      " 🔗 embedding created 🔗\n",
      "⚫\n"
     ]
    },
    {
     "data": {
      "application/vnd.jupyter.widget-view+json": {
       "model_id": "486fd9a0a9d64299a03f6c38d4125594",
       "version_major": 2,
       "version_minor": 0
      },
      "text/plain": [
       "Batches:   0%|          | 0/1 [00:00<?, ?it/s]"
      ]
     },
     "metadata": {},
     "output_type": "display_data"
    },
    {
     "name": "stdout",
     "output_type": "stream",
     "text": [
      "\n",
      "🧚 creating chat_bot for  🧚\n",
      "\n",
      "the path  🌈 being used for agent_ltoa is documents/LtoA.pdf\n",
      "\n",
      "🔥  Conjuring up agent_snd  🔥 \n",
      "\n",
      "🧙 creating course  🧙\n",
      "\n",
      "🔮 creating encoder  🔮 \n",
      "🧩 chunks created 🧩\n",
      "⚫\n",
      " 🔗 embedding created 🔗\n",
      "⚫\n"
     ]
    },
    {
     "data": {
      "application/vnd.jupyter.widget-view+json": {
       "model_id": "175fe9a9f04a44fc955d237837fffe17",
       "version_major": 2,
       "version_minor": 0
      },
      "text/plain": [
       "Batches:   0%|          | 0/1 [00:00<?, ?it/s]"
      ]
     },
     "metadata": {},
     "output_type": "display_data"
    },
    {
     "name": "stdout",
     "output_type": "stream",
     "text": [
      "\n",
      "🧚 creating chat_bot for  🧚\n",
      "\n",
      "the path  🌈 being used for agent_snd is documents/SND.pdf\n",
      "\n",
      "🔥  Conjuring up agent_foundation  🔥 \n",
      "\n",
      "🧙 creating course  🧙\n",
      "\n",
      "🔮 creating encoder  🔮 \n",
      "🧩 chunks created 🧩\n",
      "⚫\n",
      " 🔗 embedding created 🔗\n",
      "⚫\n"
     ]
    },
    {
     "data": {
      "application/vnd.jupyter.widget-view+json": {
       "model_id": "82e96139767e4e248a67c85b1999a366",
       "version_major": 2,
       "version_minor": 0
      },
      "text/plain": [
       "Batches:   0%|          | 0/7 [00:00<?, ?it/s]"
      ]
     },
     "metadata": {},
     "output_type": "display_data"
    },
    {
     "name": "stdout",
     "output_type": "stream",
     "text": [
      "\n",
      "🧚 creating chat_bot for  🧚\n",
      "\n",
      "the path  🌈 being used for agent_foundation is documents/meowsmeowing.pdf\n",
      "\n",
      "🔥  Conjuring up agent_quant  🔥 \n",
      "\n",
      "🧙 creating course  🧙\n",
      "\n",
      "🔮 creating encoder  🔮 \n",
      "🧩 chunks created 🧩\n",
      "⚫\n",
      " 🔗 embedding created 🔗\n",
      "⚫\n"
     ]
    },
    {
     "data": {
      "application/vnd.jupyter.widget-view+json": {
       "model_id": "64cac376679447ab8be20c836c9fd1b0",
       "version_major": 2,
       "version_minor": 0
      },
      "text/plain": [
       "Batches:   0%|          | 0/1 [00:00<?, ?it/s]"
      ]
     },
     "metadata": {},
     "output_type": "display_data"
    },
    {
     "name": "stdout",
     "output_type": "stream",
     "text": [
      "\n",
      "🧚 creating chat_bot for  🧚\n",
      "\n",
      "the path  🌈 being used for agent_quant is documents/VisualizingQuantumCircuitProbability.pdf\n",
      "\n",
      "🔥  Conjuring up agent_norbert  🔥 \n",
      "\n",
      "🧙 creating course  🧙\n",
      "\n",
      "🔮 creating encoder  🔮 \n",
      "🧩 chunks created 🧩\n",
      "⚫\n",
      " 🔗 embedding created 🔗\n",
      "⚫\n"
     ]
    },
    {
     "data": {
      "application/vnd.jupyter.widget-view+json": {
       "model_id": "4800bbfb70064be6ab6bf52515aa330f",
       "version_major": 2,
       "version_minor": 0
      },
      "text/plain": [
       "Batches:   0%|          | 0/1 [00:00<?, ?it/s]"
      ]
     },
     "metadata": {},
     "output_type": "display_data"
    },
    {
     "name": "stdout",
     "output_type": "stream",
     "text": [
      "\n",
      "🧚 creating chat_bot for  🧚\n",
      "\n",
      "the path  🌈 being used for agent_norbert is documents/Norman-CognitiveEngineering.pdf\n",
      "\n",
      "🔥  Conjuring up agent_cot  🔥 \n",
      "\n",
      "🧙 creating course  🧙\n",
      "\n",
      "🔮 creating encoder  🔮 \n",
      "🧩 chunks created 🧩\n",
      "⚫\n",
      " 🔗 embedding created 🔗\n",
      "⚫\n"
     ]
    },
    {
     "data": {
      "application/vnd.jupyter.widget-view+json": {
       "model_id": "0e19a2b8b1b4431c8f94ece69cb55432",
       "version_major": 2,
       "version_minor": 0
      },
      "text/plain": [
       "Batches:   0%|          | 0/2 [00:00<?, ?it/s]"
      ]
     },
     "metadata": {},
     "output_type": "display_data"
    },
    {
     "name": "stdout",
     "output_type": "stream",
     "text": [
      "\n",
      "🧚 creating chat_bot for  🧚\n",
      "\n",
      "the path  🌈 being used for agent_cot is documents/cot.pdf\n",
      "\n",
      "docs created\n",
      "🧩 chunks created 🧩\n",
      "⚫\n",
      " 🔗 embedding created 🔗\n",
      "⚫\n"
     ]
    },
    {
     "data": {
      "application/vnd.jupyter.widget-view+json": {
       "model_id": "db9f7fd0f2d943939d56c15d66f89753",
       "version_major": 2,
       "version_minor": 0
      },
      "text/plain": [
       "Batches:   0%|          | 0/1 [00:00<?, ?it/s]"
      ]
     },
     "metadata": {},
     "output_type": "display_data"
    },
    {
     "name": "stdout",
     "output_type": "stream",
     "text": [
      "🌟 instance created 🌟 \n",
      "⚫\n",
      "docs created\n",
      "🧩 chunks created 🧩\n",
      "⚫\n",
      " 🔗 embedding created 🔗\n",
      "⚫\n"
     ]
    },
    {
     "data": {
      "application/vnd.jupyter.widget-view+json": {
       "model_id": "e28c92b25b984a49afc710a9751569d4",
       "version_major": 2,
       "version_minor": 0
      },
      "text/plain": [
       "Batches:   0%|          | 0/1 [00:00<?, ?it/s]"
      ]
     },
     "metadata": {},
     "output_type": "display_data"
    },
    {
     "name": "stdout",
     "output_type": "stream",
     "text": [
      "🌟 instance created 🌟 \n",
      "⚫\n",
      "docs created\n",
      "🧩 chunks created 🧩\n",
      "⚫\n",
      " 🔗 embedding created 🔗\n",
      "⚫\n"
     ]
    },
    {
     "data": {
      "application/vnd.jupyter.widget-view+json": {
       "model_id": "197aa9817a524e698c668e17c49f0aed",
       "version_major": 2,
       "version_minor": 0
      },
      "text/plain": [
       "Batches:   0%|          | 0/7 [00:00<?, ?it/s]"
      ]
     },
     "metadata": {},
     "output_type": "display_data"
    },
    {
     "name": "stdout",
     "output_type": "stream",
     "text": [
      "🌟 instance created 🌟 \n",
      "⚫\n",
      "docs created\n",
      "🧩 chunks created 🧩\n",
      "⚫\n",
      " 🔗 embedding created 🔗\n",
      "⚫\n"
     ]
    },
    {
     "data": {
      "application/vnd.jupyter.widget-view+json": {
       "model_id": "82ca0c6c8cdb426e9e21ade216fd2684",
       "version_major": 2,
       "version_minor": 0
      },
      "text/plain": [
       "Batches:   0%|          | 0/1 [00:00<?, ?it/s]"
      ]
     },
     "metadata": {},
     "output_type": "display_data"
    },
    {
     "name": "stdout",
     "output_type": "stream",
     "text": [
      "🌟 instance created 🌟 \n",
      "⚫\n",
      "docs created\n",
      "🧩 chunks created 🧩\n",
      "⚫\n",
      " 🔗 embedding created 🔗\n",
      "⚫\n"
     ]
    },
    {
     "data": {
      "application/vnd.jupyter.widget-view+json": {
       "model_id": "66ff22f549fc4e3ba0d275bf0f6fffb2",
       "version_major": 2,
       "version_minor": 0
      },
      "text/plain": [
       "Batches:   0%|          | 0/1 [00:00<?, ?it/s]"
      ]
     },
     "metadata": {},
     "output_type": "display_data"
    },
    {
     "name": "stdout",
     "output_type": "stream",
     "text": [
      "🌟 instance created 🌟 \n",
      "⚫\n",
      "docs created\n",
      "🧩 chunks created 🧩\n",
      "⚫\n",
      " 🔗 embedding created 🔗\n",
      "⚫\n"
     ]
    },
    {
     "data": {
      "application/vnd.jupyter.widget-view+json": {
       "model_id": "1fc85b1929f441718e6dfb63a0a3a05a",
       "version_major": 2,
       "version_minor": 0
      },
      "text/plain": [
       "Batches:   0%|          | 0/2 [00:00<?, ?it/s]"
      ]
     },
     "metadata": {},
     "output_type": "display_data"
    },
    {
     "name": "stdout",
     "output_type": "stream",
     "text": [
      "🌟 instance created 🌟 \n",
      "⚫\n"
     ]
    }
   ],
   "source": [
    "learning_to_act = \"documents/LtoA.pdf\"\n",
    "system_neural_diversity = \"documents/SND.pdf\"\n",
    "foundational_models = \"documents/meowsmeowing.pdf\"\n",
    "norbet_cog = \"documents/Norman-CognitiveEngineering.pdf\"\n",
    "viz_quant = \"documents/VisualizingQuantumCircuitProbability.pdf\"\n",
    "cot_path = \"documents/cot.pdf\"\n",
    "\n",
    "embedding_params = [\n",
    "    [\"facebook-dpr-ctx_encoder-multiset-base\", 200, 25, 0.9],\n",
    "    [\"facebook-dpr-ctx_encoder-multiset-base\", 200, 25, 0.1],\n",
    "    [\"facebook-dpr-ctx_encoder-multiset-base\", 200, 25, 0.5],\n",
    "    [\"facebook-dpr-ctx_encoder-multiset-base\", 200, 25, 0.9],\n",
    "    [\"facebook-dpr-ctx_encoder-multiset-base\", 200, 25, 0.1],\n",
    "    [\"facebook-dpr-ctx_encoder-multiset-base\", 200, 25, 0.5],\n",
    "    [\"facebook-dpr-ctx_encoder-multiset-base\", 200, 25, 0.8]\n",
    "]\n",
    "# name, path, cot_type, new_bool\n",
    "agent_specs = [\n",
    "    ['agent_ltoa', learning_to_act, 0, False],\n",
    "    ['agent_snd', system_neural_diversity, 0, False],\n",
    "    ['agent_foundation', foundational_models, 0, False],\n",
    "    ['agent_quant', viz_quant, 0, False],\n",
    "    ['agent_norbert', norbet_cog, 0, False],\n",
    "    ['agent_cot', cot_path, 0, False]\n",
    "]\n",
    "\n",
    "test_pack = Pack(agent_specs, embedding_params)"
   ]
  },
  {
   "cell_type": "code",
   "execution_count": 4,
   "metadata": {},
   "outputs": [
    {
     "name": "stdout",
     "output_type": "stream",
     "text": [
      "defaultdict(None, {'agent_ltoa': ['agent_ltoa', 'agent_snd'], 'agent_snd': ['agent_snd', 'agent_ltoa'], 'agent_foundation': ['agent_foundation', 'agent_quant'], 'agent_quant': ['agent_quant', 'agent_foundation'], 'agent_norbert': ['agent_norbert', 'agent_cot'], 'agent_cot': ['agent_cot', 'agent_norbert']})\n"
     ]
    }
   ],
   "source": [
    "edges = test_pack.update_edges()\n",
    "print(edges)"
   ]
  },
  {
   "cell_type": "code",
   "execution_count": 5,
   "metadata": {},
   "outputs": [
    {
     "data": {
      "image/png": "[encoded data removed]",
      "text/plain": [
       "<Figure size 1200x800 with 1 Axes>"
      ]
     },
     "metadata": {},
     "output_type": "display_data"
    },
    {
     "data": {
      "text/plain": [
       "<networkx.classes.graph.Graph at 0x7fe491f5aa70>"
      ]
     },
     "execution_count": 5,
     "metadata": {},
     "output_type": "execute_result"
    }
   ],
   "source": [
    "test_pack.graph()"
   ]
  },
  {
   "cell_type": "code",
   "execution_count": 6,
   "metadata": {},
   "outputs": [
    {
     "name": "stdout",
     "output_type": "stream",
     "text": [
      "agent_ltoa\n"
     ]
    },
    {
     "data": {
      "application/vnd.jupyter.widget-view+json": {
       "model_id": "67a4bcbcecb640ed9ad874c0d531ac62",
       "version_major": 2,
       "version_minor": 0
      },
      "text/plain": [
       "Batches:   0%|          | 0/1 [00:00<?, ?it/s]"
      ]
     },
     "metadata": {},
     "output_type": "display_data"
    },
    {
     "data": {
      "text/plain": [
       "\"The text suggests that AI can be improved by evolving diverse neurons in random neural networks. This approach is inspired by the diversity of neuron types in animal brains. It involves the optimization of each neuron's parameters, rather than the neural network weights. Each neuron is represented by a small matrix and endowed with a state, making them small dynamical systems with some memory capabilities. It's suggested that this could enable more expressive and useful transformations of input data. Optimizing these neuron-centric parameters is tested in reinforcement learning tasks to measure its effectiveness.\""
      ]
     },
     "execution_count": 6,
     "metadata": {},
     "output_type": "execute_result"
    }
   ],
   "source": [
    "print(test_pack.agents[0].name)\n",
    "test_pack.agents[0].chat_bot.one_question(\"How can Ai better be created?\")"
   ]
  },
  {
   "cell_type": "code",
   "execution_count": 7,
   "metadata": {},
   "outputs": [
    {
     "name": "stdout",
     "output_type": "stream",
     "text": [
      "agent_snd\n"
     ]
    },
    {
     "data": {
      "application/vnd.jupyter.widget-view+json": {
       "model_id": "9667a47c713d40a394e9fd77588cff4c",
       "version_major": 2,
       "version_minor": 0
      },
      "text/plain": [
       "Batches:   0%|          | 0/1 [00:00<?, ?it/s]"
      ]
     },
     "metadata": {},
     "output_type": "display_data"
    },
    {
     "data": {
      "text/plain": [
       "'AI can be better created by addressing several challenges. One of the main challenges is the unpredictability and complexity of AI responses, which can make it difficult for people to build effective mental models of their performance. To tackle this, more work is needed on interactive machine learning and design frameworks for conveying uncertainty in AI to end-users.\\n\\nFoundation models, particularly language-based ones, offer opportunities to address these challenges. They can take natural language as input and generalize to many downstream tasks, which can significantly lower the difficulty for application development. This could enable even non-ML experts to quickly prototype AI-infused applications.\\n\\nHowever, these models can also be difficult to work with due to their generalizability and high ceiling. It can be difficult to make models like GPT-3 consistently perform the intended task, while understanding what it is capable of is still an active area of research. To improve the reliability and trustworthiness of AI-infused applications, future work should continue to investigate how to achieve more predictable and robust behaviors from foundation models, such as through fine-tuning, prompt-engineering, calibrating, or pre-formatting a task-specific endpoint.\\n\\nIn terms of user interaction, existing design frameworks for developing user-facing AI applications should remain relevant. These focus on augmenting users’ abilities rather than replacing them. Maintaining users’ agency and reflecting their values will continue to be a central theme for foundation model-powered applications. Users’ values should be directly gathered and reflected through processes such as participatory and value-sensitive design that advocate for actively involving all stakeholders during the designing of the AI-infused applications.'"
      ]
     },
     "execution_count": 7,
     "metadata": {},
     "output_type": "execute_result"
    }
   ],
   "source": [
    "print(test_pack.agents[1].name)\n",
    "test_pack.agents[1].chat_bot.one_question(\"How can Ai better be created?\")"
   ]
  },
  {
   "cell_type": "code",
   "execution_count": 8,
   "metadata": {},
   "outputs": [
    {
     "name": "stdout",
     "output_type": "stream",
     "text": [
      "agent_foundation\n"
     ]
    },
    {
     "data": {
      "application/vnd.jupyter.widget-view+json": {
       "model_id": "942bb630d21b4e739d3982e6aabcb264",
       "version_major": 2,
       "version_minor": 0
      },
      "text/plain": [
       "Batches:   0%|          | 0/1 [00:00<?, ?it/s]"
      ]
     },
     "metadata": {},
     "output_type": "display_data"
    },
    {
     "data": {
      "text/plain": [
       "\"Creating better AI, particularly foundation models, requires addressing several challenges. First, the unpredictability and complexity of AI responses need to be managed. This can be achieved by making the models more predictable and robust, through methods like fine-tuning, prompt-engineering, calibrating, or pre-formatting a task-specific endpoint.\\n\\nSecond, the development process should be made more accessible. Foundation models that can take natural language as input and generalize to many tasks can lower the difficulty of AI application development, enabling even non-experts to quickly prototype applications.\\n\\nThird, user experience should be prioritized. AI should augment rather than replace users' abilities. Maintaining users' agency and reflecting their values should be central themes in AI application development. The benefits of AI automating routines versus waiting for direct user interaction need to be carefully weighed.\\n\\nLastly, the design process should involve all stakeholders. Users' values should be directly gathered and reflected through processes such as participatory and value-sensitive design. The AI should not behave in ways that surprise or disappoint users and communities, and should not expose biases or points of view that counter the communities' goals.\""
      ]
     },
     "execution_count": 8,
     "metadata": {},
     "output_type": "execute_result"
    }
   ],
   "source": [
    "print(test_pack.agents[2].name)\n",
    "test_pack.agents[2].chat_bot.one_question(\"How can Ai better be created?\")"
   ]
  },
  {
   "cell_type": "code",
   "execution_count": 9,
   "metadata": {},
   "outputs": [
    {
     "data": {
      "application/vnd.jupyter.widget-view+json": {
       "model_id": "3ff6e51a20bb4db9b8e24b77b8eb8fbf",
       "version_major": 2,
       "version_minor": 0
      },
      "text/plain": [
       "Batches:   0%|          | 0/1 [00:00<?, ?it/s]"
      ]
     },
     "metadata": {},
     "output_type": "display_data"
    },
    {
     "data": {
      "application/vnd.jupyter.widget-view+json": {
       "model_id": "1360e82e1f4b4832a3cdbcbca0d9e6a0",
       "version_major": 2,
       "version_minor": 0
      },
      "text/plain": [
       "Batches:   0%|          | 0/1 [00:00<?, ?it/s]"
      ]
     },
     "metadata": {},
     "output_type": "display_data"
    },
    {
     "data": {
      "application/vnd.jupyter.widget-view+json": {
       "model_id": "bf4850e2b29d406d924d355ef592786a",
       "version_major": 2,
       "version_minor": 0
      },
      "text/plain": [
       "Batches:   0%|          | 0/1 [00:00<?, ?it/s]"
      ]
     },
     "metadata": {},
     "output_type": "display_data"
    },
    {
     "data": {
      "application/vnd.jupyter.widget-view+json": {
       "model_id": "de11af3fa9124d878e52733220a72663",
       "version_major": 2,
       "version_minor": 0
      },
      "text/plain": [
       "Batches:   0%|          | 0/1 [00:00<?, ?it/s]"
      ]
     },
     "metadata": {},
     "output_type": "display_data"
    },
    {
     "data": {
      "application/vnd.jupyter.widget-view+json": {
       "model_id": "744f81cb57e0401ba67ddafc18f7388d",
       "version_major": 2,
       "version_minor": 0
      },
      "text/plain": [
       "Batches:   0%|          | 0/1 [00:00<?, ?it/s]"
      ]
     },
     "metadata": {},
     "output_type": "display_data"
    },
    {
     "data": {
      "application/vnd.jupyter.widget-view+json": {
       "model_id": "ee4ee30f9031472cac5410b44fac6e88",
       "version_major": 2,
       "version_minor": 0
      },
      "text/plain": [
       "Batches:   0%|          | 0/1 [00:00<?, ?it/s]"
      ]
     },
     "metadata": {},
     "output_type": "display_data"
    },
    {
     "data": {
      "text/plain": [
       "defaultdict(None,\n",
       "            {'agent_ltoa': 'The context provided does not contain information about how AI can destroy.',\n",
       "             'agent_snd': 'The provided context does not provide information on how AI can destroy.',\n",
       "             'agent_foundation': 'The text does not directly address how AI can \"destroy\", but it does mention several risks associated with AI and foundation models. These risks include the unpredictability and complexity of AI responses, which can make it difficult for people to understand and control them. Foundation models can also behave in ways that surprise and disappoint users and communities, possibly exposing biases or points of view that contradict the goals or values of these groups. These issues could potentially lead to harmful outcomes or misuse of technology, but the text does not provide specific examples of destruction caused by AI.',\n",
       "             'agent_quant': 'The provided context does not contain information related to the potential destructive capabilities of AI.',\n",
       "             'agent_norbert': 'The text does not provide information on how AI can destroy.',\n",
       "             'agent_cot': 'The text does not provide information on how AI can destroy.'})"
      ]
     },
     "execution_count": 9,
     "metadata": {},
     "output_type": "execute_result"
    }
   ],
   "source": [
    "test_pack.one_question(prompt=\"How can AI destroy?\")"
   ]
  },
  {
   "cell_type": "code",
   "execution_count": 10,
   "metadata": {},
   "outputs": [
    {
     "data": {
      "image/png": "[encoded data removed]",
      "text/plain": [
       "<Figure size 1200x800 with 1 Axes>"
      ]
     },
     "metadata": {},
     "output_type": "display_data"
    },
    {
     "data": {
      "text/plain": [
       "<networkx.classes.graph.Graph at 0x7fe447c30bb0>"
      ]
     },
     "execution_count": 10,
     "metadata": {},
     "output_type": "execute_result"
    }
   ],
   "source": [
    "edges = test_pack.update_edges()\n",
    "test_pack.graph()"
   ]
  },
  {
   "cell_type": "markdown",
   "metadata": {},
   "source": [
    "## Metrics"
   ]
  },
  {
   "cell_type": "code",
   "execution_count": 11,
   "metadata": {},
   "outputs": [],
   "source": [
    "metrics = ThoughtDiversity(test_pack)"
   ]
  },
  {
   "cell_type": "code",
   "execution_count": 12,
   "metadata": {},
   "outputs": [
    {
     "data": {
      "application/vnd.jupyter.widget-view+json": {
       "model_id": "ff217f5146514345923b2a5fe54fce70",
       "version_major": 2,
       "version_minor": 0
      },
      "text/plain": [
       "Batches:   0%|          | 0/1 [00:00<?, ?it/s]"
      ]
     },
     "metadata": {},
     "output_type": "display_data"
    },
    {
     "data": {
      "application/vnd.jupyter.widget-view+json": {
       "model_id": "678e3486e7c14bf19b97aaa25d311b45",
       "version_major": 2,
       "version_minor": 0
      },
      "text/plain": [
       "Batches:   0%|          | 0/1 [00:00<?, ?it/s]"
      ]
     },
     "metadata": {},
     "output_type": "display_data"
    },
    {
     "data": {
      "application/vnd.jupyter.widget-view+json": {
       "model_id": "b214426121ec4230b637aa27081c14cd",
       "version_major": 2,
       "version_minor": 0
      },
      "text/plain": [
       "Batches:   0%|          | 0/1 [00:00<?, ?it/s]"
      ]
     },
     "metadata": {},
     "output_type": "display_data"
    },
    {
     "data": {
      "application/vnd.jupyter.widget-view+json": {
       "model_id": "dd4a00e00cd8414d8fdfff3c03f7f48e",
       "version_major": 2,
       "version_minor": 0
      },
      "text/plain": [
       "Batches:   0%|          | 0/1 [00:00<?, ?it/s]"
      ]
     },
     "metadata": {},
     "output_type": "display_data"
    },
    {
     "data": {
      "application/vnd.jupyter.widget-view+json": {
       "model_id": "52a87fdeb928415493b8357bd1dcbb1f",
       "version_major": 2,
       "version_minor": 0
      },
      "text/plain": [
       "Batches:   0%|          | 0/1 [00:00<?, ?it/s]"
      ]
     },
     "metadata": {},
     "output_type": "display_data"
    },
    {
     "data": {
      "application/vnd.jupyter.widget-view+json": {
       "model_id": "fb7310cdd4f14f14b4cfd8f0cfb5af83",
       "version_major": 2,
       "version_minor": 0
      },
      "text/plain": [
       "Batches:   0%|          | 0/1 [00:00<?, ?it/s]"
      ]
     },
     "metadata": {},
     "output_type": "display_data"
    },
    {
     "name": "stdout",
     "output_type": "stream",
     "text": [
      "[[3.007685523180071, 2.8978538752284653, 3.0201720198517146, 2.8837839433468564, 2.870552228319065, 2.7893830429195727], [20.24049950428227, 18.135183209646865, 20.49481689634444, 17.88180907550841, 17.64676055050452, 16.270978209279452], [0.01309112807434984, 0.005873872912625628, 0.011528386939571152, 0.010508040935672511, 0.012232341036688866, 0.009614608098141308, 0.006224914076958208, 0.006787576953053916, 0.0074539172527491775, 0.008518223671488346, 0.008973177951604709, 0.01034089691674377, 0.006779100529100529, 0.006729555642599119, 0.005758864454516626]]\n"
     ]
    }
   ],
   "source": [
    "print(metrics.monte_carlo_sim(\"how can ai be diversified for good?\", 1))"
   ]
  },
  {
   "cell_type": "code",
   "execution_count": 13,
   "metadata": {},
   "outputs": [
    {
     "data": {
      "image/png": "[encoded data removed]",
      "text/plain": [
       "<Figure size 1200x800 with 1 Axes>"
      ]
     },
     "metadata": {},
     "output_type": "display_data"
    },
    {
     "data": {
      "text/plain": [
       "<networkx.classes.graph.Graph at 0x7fe447958190>"
      ]
     },
     "execution_count": 13,
     "metadata": {},
     "output_type": "execute_result"
    }
   ],
   "source": [
    "test_pack.update_edges()\n",
    "test_pack.graph()"
   ]
  },
  {
   "cell_type": "code",
   "execution_count": null,
   "metadata": {},
   "outputs": [],
   "source": []
  }
 ],
 "metadata": {
  "kernelspec": {
   "display_name": "nlp",
   "language": "python",
   "name": "python3"
  },
  "language_info": {
   "codemirror_mode": {
    "name": "ipython",
    "version": 3
   },
   "file_extension": ".py",
   "mimetype": "text/x-python",
   "name": "python",
   "nbconvert_exporter": "python",
   "pygments_lexer": "ipython3",
   "version": "3.10.12"
  }
 },
 "nbformat": 4,
 "nbformat_minor": 2
}
