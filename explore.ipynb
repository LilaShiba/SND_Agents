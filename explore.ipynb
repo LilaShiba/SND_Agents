{
 "cells": [
  {
   "cell_type": "markdown",
   "metadata": {},
   "source": []
  },
  {
   "cell_type": "code",
   "execution_count": 1,
   "metadata": {},
   "outputs": [],
   "source": [
    "from utils.pack import Pack\n",
    "from utils.agent import Agent\n",
    "from utils.metrics import ThoughtDiversity"
   ]
  },
  {
   "cell_type": "markdown",
   "metadata": {},
   "source": [
    "## Single Agent"
   ]
  },
  {
   "cell_type": "code",
   "execution_count": 2,
   "metadata": {},
   "outputs": [
    {
     "name": "stdout",
     "output_type": "stream",
     "text": [
      "🔥  Conjuring up agent_hilbert_space  🔥 \n",
      "\n",
      "🧙 creating course  🧙\n",
      "\n",
      "🔮 creating encoder  🔮 \n",
      "🧩 chunks created 🧩\n",
      "⚫\n",
      " 🔗 embedding created 🔗\n",
      "⚫\n"
     ]
    },
    {
     "data": {
      "application/vnd.jupyter.widget-view+json": {
       "model_id": "a4d78791e6b34082b170563f75b0ca21",
       "version_major": 2,
       "version_minor": 0
      },
      "text/plain": [
       "Batches:   0%|          | 0/1 [00:00<?, ?it/s]"
      ]
     },
     "metadata": {},
     "output_type": "display_data"
    },
    {
     "name": "stdout",
     "output_type": "stream",
     "text": [
      "\n",
      "🧚 creating chat_bot for  🧚\n",
      "\n",
      "the path  🌈 being used for agent_hilbert_space is documents/HilbertSpaceMulti.pdf\n",
      "\n"
     ]
    },
    {
     "data": {
      "application/vnd.jupyter.widget-view+json": {
       "model_id": "5db1e3636ea14f74925e18f3b66fc7bc",
       "version_major": 2,
       "version_minor": 0
      },
      "text/plain": [
       "Batches:   0%|          | 0/1 [00:00<?, ?it/s]"
      ]
     },
     "metadata": {},
     "output_type": "display_data"
    },
    {
     "data": {
      "text/plain": [
       "'Hilbert space is a mathematical concept in quantum mechanics that represents the state of a quantum system. It is a complex vector space that has an inner product defined on it, allowing for the measurement of lengths and angles between vectors. In Hilbert space, vectors represent the possible states of a quantum system, and operators represent the observables or measurements that can be made on the system. The concept of Hilbert space is used to describe the behavior and evolution of quantum systems.'"
      ]
     },
     "execution_count": 2,
     "metadata": {},
     "output_type": "execute_result"
    }
   ],
   "source": [
    "embedding_params = [\"facebook-dpr-ctx_encoder-multiset-base\", 200, 25, 0.7]\n",
    "agent_hilbert = Agent('agent_hilbert_space',\n",
    "                      'documents/HilbertSpaceMulti.pdf', 1, embedding_params, False)\n",
    "agent_hilbert.chat_bot.one_question(\"What is hilbert space?\")"
   ]
  },
  {
   "cell_type": "markdown",
   "metadata": {},
   "source": [
    "## Pack"
   ]
  },
  {
   "cell_type": "code",
   "execution_count": 3,
   "metadata": {},
   "outputs": [
    {
     "name": "stdout",
     "output_type": "stream",
     "text": [
      "🔥  Conjuring up agent_ltoa  🔥 \n",
      "\n",
      "🧙 creating course  🧙\n",
      "\n",
      "🔮 creating encoder  🔮 \n",
      "loading agent...\n",
      "agent loaded\n",
      "\n",
      "🧚 creating chat_bot for  🧚\n",
      "\n",
      "the path  🌈 being used for agent_ltoa is chroma_db/agent_ltoa\n",
      "\n",
      "🔥  Conjuring up agent_snd  🔥 \n",
      "\n",
      "🧙 creating course  🧙\n",
      "\n",
      "🔮 creating encoder  🔮 \n",
      "loading agent...\n",
      "agent loaded\n",
      "\n",
      "🧚 creating chat_bot for  🧚\n",
      "\n",
      "the path  🌈 being used for agent_snd is chroma_db/agent_snd\n",
      "\n",
      "🔥  Conjuring up agent_foundation  🔥 \n",
      "\n",
      "🧙 creating course  🧙\n",
      "\n",
      "🔮 creating encoder  🔮 \n",
      "loading agent...\n",
      "agent loaded\n",
      "\n",
      "🧚 creating chat_bot for  🧚\n",
      "\n",
      "the path  🌈 being used for agent_foundation is chroma_db/agent_foundation\n",
      "\n",
      "🔥  Conjuring up agent_quant  🔥 \n",
      "\n",
      "🧙 creating course  🧙\n",
      "\n",
      "🔮 creating encoder  🔮 \n",
      "🧩 chunks created 🧩\n",
      "⚫\n",
      " 🔗 embedding created 🔗\n",
      "⚫\n"
     ]
    },
    {
     "data": {
      "application/vnd.jupyter.widget-view+json": {
       "model_id": "a18b109fc21849d0b2cf8ccb46fbcdba",
       "version_major": 2,
       "version_minor": 0
      },
      "text/plain": [
       "Batches:   0%|          | 0/1 [00:00<?, ?it/s]"
      ]
     },
     "metadata": {},
     "output_type": "display_data"
    },
    {
     "name": "stdout",
     "output_type": "stream",
     "text": [
      "\n",
      "🧚 creating chat_bot for  🧚\n",
      "\n",
      "the path  🌈 being used for agent_quant is documents/VisualizingQuantumCircuitProbability.pdf\n",
      "\n",
      "🔥  Conjuring up agent_norbert  🔥 \n",
      "\n",
      "🧙 creating course  🧙\n",
      "\n",
      "🔮 creating encoder  🔮 \n"
     ]
    }
   ],
   "source": [
    "learning_to_act = \"chroma_db/agent_ltoa\"\n",
    "system_neural_diversity = \"chroma_db/agent_snd\"\n",
    "foundational_models = \"chroma_db/agent_foundation\"\n",
    "\n",
    "embedding_params = [\n",
    "    [\"facebook-dpr-ctx_encoder-multiset-base\", 200, 25, 0.9],\n",
    "    [\"facebook-dpr-ctx_encoder-multiset-base\", 200, 25, 0.1],\n",
    "    [\"facebook-dpr-ctx_encoder-multiset-base\", 200, 25, 0.5],\n",
    "    [\"facebook-dpr-ctx_encoder-multiset-base\", 200, 25, 0.9],\n",
    "    [\"facebook-dpr-ctx_encoder-multiset-base\", 200, 25, 0.1],\n",
    "    [\"facebook-dpr-ctx_encoder-multiset-base\", 200, 25, 0.5]\n",
    "]\n",
    "# name, path, cot_type, new_bool\n",
    "agent_specs = [\n",
    "    ['agent_ltoa', learning_to_act, 0, True],\n",
    "    ['agent_snd', system_neural_diversity, 0, True],\n",
    "    ['agent_foundation', foundational_models, 0, True],\n",
    "    ['agent_quant', 'documents/VisualizingQuantumCircuitProbability.pdf', 1, False],\n",
    "    ['agent_norbert', 'documents/Norman-CognitiveEngineering.pdf', 1, False]\n",
    "]\n",
    "\n",
    "test_pack = Pack(agent_specs, embedding_params)"
   ]
  },
  {
   "cell_type": "code",
   "execution_count": null,
   "metadata": {},
   "outputs": [],
   "source": [
    "test_pack.knn.visualize([0.178, -0.217], 3)"
   ]
  },
  {
   "cell_type": "code",
   "execution_count": null,
   "metadata": {},
   "outputs": [],
   "source": [
    "test_pack.one_question(\"how to make better ai for better humans?\")"
   ]
  },
  {
   "cell_type": "markdown",
   "metadata": {},
   "source": [
    "## Metrics"
   ]
  },
  {
   "cell_type": "code",
   "execution_count": null,
   "metadata": {},
   "outputs": [],
   "source": [
    "metrics = ThoughtDiversity(test_pack)"
   ]
  },
  {
   "cell_type": "code",
   "execution_count": null,
   "metadata": {},
   "outputs": [],
   "source": [
    "# print(metrics.monte_carlo_sim(\"How can we better desing AI agents?\"))"
   ]
  },
  {
   "cell_type": "code",
   "execution_count": null,
   "metadata": {},
   "outputs": [],
   "source": []
  }
 ],
 "metadata": {
  "kernelspec": {
   "display_name": "nlp",
   "language": "python",
   "name": "python3"
  },
  "language_info": {
   "codemirror_mode": {
    "name": "ipython",
    "version": 3
   },
   "file_extension": ".py",
   "mimetype": "text/x-python",
   "name": "python",
   "nbconvert_exporter": "python",
   "pygments_lexer": "ipython3",
   "version": "3.10.12"
  }
 },
 "nbformat": 4,
 "nbformat_minor": 2
}
