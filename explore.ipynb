{
 "cells": [
  {
   "cell_type": "markdown",
   "metadata": {},
   "source": []
  },
  {
   "cell_type": "code",
   "execution_count": 1,
   "metadata": {},
   "outputs": [],
   "source": [
    "from utils.pack import Pack\n",
    "from utils.agent import Agent\n",
    "from utils.metrics import ThoughtDiversity\n",
    "from collections import defaultdict\n",
    "import networkx as nx"
   ]
  },
  {
   "cell_type": "markdown",
   "metadata": {},
   "source": [
    "## Single Agent"
   ]
  },
  {
   "cell_type": "code",
   "execution_count": 2,
   "metadata": {},
   "outputs": [
    {
     "name": "stdout",
     "output_type": "stream",
     "text": [
      "🔥  Conjuring up agent_hilbert_space  🔥 \n",
      "\n",
      "🧙 creating course  🧙\n",
      "\n",
      "🔮 creating encoder  🔮 \n",
      "🧩 chunks created 🧩\n",
      "⚫\n",
      " 🔗 embedding created 🔗\n",
      "⚫\n"
     ]
    },
    {
     "data": {
      "application/vnd.jupyter.widget-view+json": {
       "model_id": "e47eb732aa60439696f219694ab8932a",
       "version_major": 2,
       "version_minor": 0
      },
      "text/plain": [
       "Batches:   0%|          | 0/1 [00:00<?, ?it/s]"
      ]
     },
     "metadata": {},
     "output_type": "display_data"
    },
    {
     "name": "stdout",
     "output_type": "stream",
     "text": [
      "\n",
      "🧚 creating chat_bot for  🧚\n",
      "\n",
      "the path  🌈 being used for agent_hilbert_space is documents/HilbertSpaceMulti.pdf\n",
      "\n"
     ]
    },
    {
     "data": {
      "application/vnd.jupyter.widget-view+json": {
       "model_id": "157498b0dea14f63b286d824197abfe8",
       "version_major": 2,
       "version_minor": 0
      },
      "text/plain": [
       "Batches:   0%|          | 0/1 [00:00<?, ?it/s]"
      ]
     },
     "metadata": {},
     "output_type": "display_data"
    },
    {
     "data": {
      "text/plain": [
       "'A Hilbert space is a vector space equipped with an inner product, an operation that allows defining lengths and angles. It is a fundamental concept in the mathematical formulation of quantum mechanics.'"
      ]
     },
     "execution_count": 2,
     "metadata": {},
     "output_type": "execute_result"
    }
   ],
   "source": [
    "embedding_params = [\"facebook-dpr-ctx_encoder-multiset-base\", 200, 25, 0.7]\n",
    "agent_hilbert = Agent('agent_hilbert_space',\n",
    "                      'documents/HilbertSpaceMulti.pdf', 1, embedding_params, False)\n",
    "agent_hilbert.chat_bot.one_question(\"What is hilbert space?\")"
   ]
  },
  {
   "cell_type": "markdown",
   "metadata": {},
   "source": [
    "## Pack"
   ]
  },
  {
   "cell_type": "code",
   "execution_count": 3,
   "metadata": {},
   "outputs": [
    {
     "name": "stdout",
     "output_type": "stream",
     "text": [
      "🔥  Conjuring up agent_ltoa  🔥 \n",
      "\n",
      "🧙 creating course  🧙\n",
      "\n",
      "🔮 creating encoder  🔮 \n",
      "loading agent...\n",
      "agent loaded\n",
      "\n",
      "🧚 creating chat_bot for  🧚\n",
      "\n",
      "the path  🌈 being used for agent_ltoa is chroma_db/agent_ltoa\n",
      "\n",
      "🔥  Conjuring up agent_snd  🔥 \n",
      "\n",
      "🧙 creating course  🧙\n",
      "\n",
      "🔮 creating encoder  🔮 \n",
      "loading agent...\n",
      "agent loaded\n",
      "\n",
      "🧚 creating chat_bot for  🧚\n",
      "\n",
      "the path  🌈 being used for agent_snd is chroma_db/agent_snd\n",
      "\n",
      "🔥  Conjuring up agent_foundation  🔥 \n",
      "\n",
      "🧙 creating course  🧙\n",
      "\n",
      "🔮 creating encoder  🔮 \n",
      "loading agent...\n",
      "agent loaded\n",
      "\n",
      "🧚 creating chat_bot for  🧚\n",
      "\n",
      "the path  🌈 being used for agent_foundation is chroma_db/agent_foundation\n",
      "\n",
      "🔥  Conjuring up agent_quant  🔥 \n",
      "\n",
      "🧙 creating course  🧙\n",
      "\n",
      "🔮 creating encoder  🔮 \n",
      "loading agent...\n",
      "agent loaded\n",
      "\n",
      "🧚 creating chat_bot for  🧚\n",
      "\n",
      "the path  🌈 being used for agent_quant is chroma_db/agent_quant\n",
      "\n",
      "🔥  Conjuring up agent_norbert  🔥 \n",
      "\n",
      "🧙 creating course  🧙\n",
      "\n",
      "🔮 creating encoder  🔮 \n",
      "loading agent...\n",
      "agent loaded\n",
      "\n",
      "🧚 creating chat_bot for  🧚\n",
      "\n",
      "the path  🌈 being used for agent_norbert is chroma_db/agent_norbert\n",
      "\n",
      "waking up agent agent_ltoa\n",
      "\n",
      "waking up agent agent_snd\n",
      "\n",
      "waking up agent agent_foundation\n",
      "\n",
      "waking up agent agent_quant\n",
      "\n",
      "waking up agent agent_norbert\n",
      "\n"
     ]
    }
   ],
   "source": [
    "learning_to_act = \"chroma_db/agent_ltoa\"\n",
    "system_neural_diversity = \"chroma_db/agent_snd\"\n",
    "foundational_models = \"chroma_db/agent_foundation\"\n",
    "norbet_cog = 'chroma_db/agent_norbert'\n",
    "viz_quant = \"chroma_db/agent_quant\"\n",
    "\n",
    "embedding_params = [\n",
    "    [\"facebook-dpr-ctx_encoder-multiset-base\", 200, 25, 0.9],\n",
    "    [\"facebook-dpr-ctx_encoder-multiset-base\", 200, 25, 0.1],\n",
    "    [\"facebook-dpr-ctx_encoder-multiset-base\", 200, 25, 0.5],\n",
    "    [\"facebook-dpr-ctx_encoder-multiset-base\", 200, 25, 0.9],\n",
    "    [\"facebook-dpr-ctx_encoder-multiset-base\", 200, 25, 0.1],\n",
    "    [\"facebook-dpr-ctx_encoder-multiset-base\", 200, 25, 0.5]\n",
    "]\n",
    "# name, path, cot_type, new_bool\n",
    "agent_specs = [\n",
    "    ['agent_ltoa', learning_to_act, 0, True],\n",
    "    ['agent_snd', system_neural_diversity, 0, True],\n",
    "    ['agent_foundation', foundational_models, 0, True],\n",
    "    ['agent_quant', viz_quant, 0, True],\n",
    "    ['agent_norbert', norbet_cog, 0, True]\n",
    "]\n",
    "\n",
    "test_pack = Pack(agent_specs, embedding_params)"
   ]
  },
  {
   "cell_type": "code",
   "execution_count": 4,
   "metadata": {},
   "outputs": [
    {
     "name": "stdout",
     "output_type": "stream",
     "text": [
      "defaultdict(None, {'agent_ltoa': ['agent_ltoa', 'agent_quant', 'agent_norbert'], 'agent_snd': ['agent_snd', 'agent_foundation', 'agent_norbert'], 'agent_foundation': ['agent_foundation', 'agent_snd', 'agent_norbert'], 'agent_quant': ['agent_quant', 'agent_ltoa', 'agent_norbert'], 'agent_norbert': ['agent_norbert', 'agent_snd', 'agent_quant']})\n"
     ]
    }
   ],
   "source": [
    "edges = test_pack.update_edges()\n",
    "print(edges)"
   ]
  },
  {
   "cell_type": "code",
   "execution_count": 5,
   "metadata": {},
   "outputs": [
    {
     "data": {
      "image/png": "[encoded data removed]",
      "text/plain": [
       "<Figure size 1200x800 with 1 Axes>"
      ]
     },
     "metadata": {},
     "output_type": "display_data"
    },
    {
     "data": {
      "text/plain": [
       "<networkx.classes.graph.Graph at 0x7fa9c6dc5ea0>"
      ]
     },
     "execution_count": 5,
     "metadata": {},
     "output_type": "execute_result"
    }
   ],
   "source": [
    "test_pack.graph()"
   ]
  },
  {
   "cell_type": "code",
   "execution_count": 9,
   "metadata": {},
   "outputs": [
    {
     "data": {
      "application/vnd.jupyter.widget-view+json": {
       "model_id": "f5db229663a54f1dbe70e8aec8b59c16",
       "version_major": 2,
       "version_minor": 0
      },
      "text/plain": [
       "Batches:   0%|          | 0/1 [00:00<?, ?it/s]"
      ]
     },
     "metadata": {},
     "output_type": "display_data"
    },
    {
     "data": {
      "text/plain": [
       "\"The text suggests that one approach to better creating AI is by optimizing neuro-centric parameters in neural networks, such as neurons' types and states, instead of or in addition to traditional methods of optimizing the network weights. This strategy was inspired by the diversity of neuron types in animal brains. The research found that even when the weights of the network were never optimized, meaningful behavior changes in the agents were enabled. This approach might not beat state-of-the-art methods on complex tasks, but it paves the way for possible future studies.\""
      ]
     },
     "execution_count": 9,
     "metadata": {},
     "output_type": "execute_result"
    }
   ],
   "source": [
    "print(test_pack.agents[0].name)\n",
    "test_pack.agents[0].chat_bot.one_question(\"How can Ai better be created?\")"
   ]
  },
  {
   "cell_type": "code",
   "execution_count": 10,
   "metadata": {},
   "outputs": [
    {
     "data": {
      "application/vnd.jupyter.widget-view+json": {
       "model_id": "cfa46bc591a24ac6bd2c7fdcb894613c",
       "version_major": 2,
       "version_minor": 0
      },
      "text/plain": [
       "Batches:   0%|          | 0/1 [00:00<?, ?it/s]"
      ]
     },
     "metadata": {},
     "output_type": "display_data"
    },
    {
     "data": {
      "text/plain": [
       "\"Creating better AI, particularly foundation models, involves addressing several challenges. One way is to make these models more predictable and robust. This can be achieved through methods like fine-tuning, prompt-engineering, calibrating, or pre-formatting a task-specific endpoint. \\n\\nAnother important aspect is to make these models more manageable for application developers. This involves leveraging the capacities of foundation models, such as their ability to take natural language as input and generalize to many downstream tasks, in a way that is effective and manageable.\\n\\nIn terms of user interaction, maintaining users’ agency and reflecting their values should be a central theme for AI development. This can be achieved through processes like participatory and value-sensitive design that involve all stakeholders in the design process. \\n\\nHowever, it's important to note that foundation models can be unpredictable and complex, and may behave in ways that surprise and disappoint users. Therefore, ongoing research and development is necessary to improve these models and make them more reliable and trustworthy.\""
      ]
     },
     "execution_count": 10,
     "metadata": {},
     "output_type": "execute_result"
    }
   ],
   "source": [
    "print(test_pack.agents[1].name)\n",
    "test_pack.agents[1].chat_bot.one_question(\"How can Ai better be created?\")"
   ]
  },
  {
   "cell_type": "code",
   "execution_count": 11,
   "metadata": {},
   "outputs": [
    {
     "data": {
      "application/vnd.jupyter.widget-view+json": {
       "model_id": "27dadbbd988a41e2bf519d2ff199fde3",
       "version_major": 2,
       "version_minor": 0
      },
      "text/plain": [
       "Batches:   0%|          | 0/1 [00:00<?, ?it/s]"
      ]
     },
     "metadata": {},
     "output_type": "display_data"
    },
    {
     "data": {
      "text/plain": [
       "'AI can be better created by addressing several challenges and opportunities mentioned in the context. Foundation models, which can take natural language as input and generalize to many downstream tasks, have the potential to significantly lower the difficulty for application development. They can enable the development of sophisticated models without having to collect large amounts of data and train large models from scratch. This could enable even non-ML experts to quickly prototype AI-infused applications. \\n\\nHowever, the same generalizability that gives foundation models their edge can also make these models difficult to work with, as they may be even more unpredictable and complex than single-purpose AI models. To improve the reliability and trustworthiness of AI-infused applications, future work should continue to investigate how to achieve more predictable and robust behaviors from foundation models, for instance, through fine-tuning, prompt-engineering, calibrating, or pre-formatting a task-specific endpoint.\\n\\nAdditionally, the design of AI-infused applications should focus on augmenting (rather than replacing) users’ abilities, maintaining users’ agency, and reflecting their values. Users’ values should be directly gathered and reflected through processes such as participatory and value-sensitive design that advocate for actively involving all stakeholders during the designing of the AI-infused applications.'"
      ]
     },
     "execution_count": 11,
     "metadata": {},
     "output_type": "execute_result"
    }
   ],
   "source": [
    "print(test_pack.agents[2].name)\n",
    "test_pack.agents[2].chat_bot.one_question(\"How can Ai better be created?\")"
   ]
  },
  {
   "cell_type": "code",
   "execution_count": 12,
   "metadata": {},
   "outputs": [
    {
     "data": {
      "application/vnd.jupyter.widget-view+json": {
       "model_id": "a421972246514727bb7a54f92d37c1a6",
       "version_major": 2,
       "version_minor": 0
      },
      "text/plain": [
       "Batches:   0%|          | 0/1 [00:00<?, ?it/s]"
      ]
     },
     "metadata": {},
     "output_type": "display_data"
    }
   ],
   "source": [
    "test_pack.one_question(prompt=\"How can AI destroy?\")"
   ]
  },
  {
   "cell_type": "markdown",
   "metadata": {},
   "source": [
    "## Metrics"
   ]
  },
  {
   "cell_type": "code",
   "execution_count": 7,
   "metadata": {},
   "outputs": [],
   "source": [
    "metrics = ThoughtDiversity(test_pack)"
   ]
  },
  {
   "cell_type": "code",
   "execution_count": 8,
   "metadata": {},
   "outputs": [],
   "source": [
    "# print(metrics.monte_carlo_sim(\"how can ai help\", 1))"
   ]
  },
  {
   "cell_type": "code",
   "execution_count": null,
   "metadata": {},
   "outputs": [],
   "source": []
  },
  {
   "cell_type": "code",
   "execution_count": null,
   "metadata": {},
   "outputs": [],
   "source": []
  }
 ],
 "metadata": {
  "kernelspec": {
   "display_name": "nlp",
   "language": "python",
   "name": "python3"
  },
  "language_info": {
   "codemirror_mode": {
    "name": "ipython",
    "version": 3
   },
   "file_extension": ".py",
   "mimetype": "text/x-python",
   "name": "python",
   "nbconvert_exporter": "python",
   "pygments_lexer": "ipython3",
   "version": "3.10.12"
  }
 },
 "nbformat": 4,
 "nbformat_minor": 2
}
