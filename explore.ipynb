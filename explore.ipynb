{
 "cells": [
  {
   "cell_type": "markdown",
   "metadata": {},
   "source": []
  },
  {
   "cell_type": "code",
   "execution_count": null,
   "metadata": {},
   "outputs": [],
   "source": [
    "from utils.pack import Pack\n",
    "from utils.agent import Agent\n",
    "from utils.metrics import ThoughtDiversity\n",
    "from collections import defaultdict\n",
    "import networkx as nx"
   ]
  },
  {
   "cell_type": "markdown",
   "metadata": {},
   "source": [
    "## Single Agent"
   ]
  },
  {
   "cell_type": "code",
   "execution_count": null,
   "metadata": {},
   "outputs": [],
   "source": [
    "embedding_params = [\"facebook-dpr-ctx_encoder-multiset-base\", 200, 25, 0.7]\n",
    "agent_hilbert = Agent('agent_hilbert_space',\n",
    "                      'documents/HilbertSpaceMulti.pdf', 1, embedding_params, False)\n",
    "agent_hilbert.chat_bot.one_question(\"What is hilbert space?\")"
   ]
  },
  {
   "cell_type": "markdown",
   "metadata": {},
   "source": [
    "## Pack"
   ]
  },
  {
   "cell_type": "code",
   "execution_count": null,
   "metadata": {},
   "outputs": [],
   "source": [
    "learning_to_act = \"chroma_db/agent_ltoa\"\n",
    "system_neural_diversity = \"chroma_db/agent_snd\"\n",
    "foundational_models = \"chroma_db/agent_foundation\"\n",
    "norbet_cog = 'chroma_db/agent_norbert'\n",
    "viz_quant = \"chroma_db/agent_quant\"\n",
    "\n",
    "embedding_params = [\n",
    "    [\"facebook-dpr-ctx_encoder-multiset-base\", 200, 25, 0.9],\n",
    "    [\"facebook-dpr-ctx_encoder-multiset-base\", 200, 25, 0.1],\n",
    "    [\"facebook-dpr-ctx_encoder-multiset-base\", 200, 25, 0.5],\n",
    "    [\"facebook-dpr-ctx_encoder-multiset-base\", 200, 25, 0.9],\n",
    "    [\"facebook-dpr-ctx_encoder-multiset-base\", 200, 25, 0.1],\n",
    "    [\"facebook-dpr-ctx_encoder-multiset-base\", 200, 25, 0.5]\n",
    "]\n",
    "# name, path, cot_type, new_bool\n",
    "agent_specs = [\n",
    "    ['agent_ltoa', learning_to_act, 0, True],\n",
    "    ['agent_snd', system_neural_diversity, 0, True],\n",
    "    ['agent_foundation', foundational_models, 0, True],\n",
    "    ['agent_quant', viz_quant, 0, True],\n",
    "    ['agent_norbert', norbet_cog, 0, True]\n",
    "]\n",
    "\n",
    "test_pack = Pack(agent_specs, embedding_params)"
   ]
  },
  {
   "cell_type": "code",
   "execution_count": null,
   "metadata": {},
   "outputs": [],
   "source": [
    "edges = test_pack.update_edges()\n",
    "print(edges)"
   ]
  },
  {
   "cell_type": "code",
   "execution_count": null,
   "metadata": {},
   "outputs": [],
   "source": [
    "test_pack.graph()"
   ]
  },
  {
   "cell_type": "markdown",
   "metadata": {},
   "source": [
    "## Metrics"
   ]
  },
  {
   "cell_type": "code",
   "execution_count": null,
   "metadata": {},
   "outputs": [],
   "source": [
    "metrics = ThoughtDiversity(test_pack)"
   ]
  },
  {
   "cell_type": "code",
   "execution_count": null,
   "metadata": {},
   "outputs": [],
   "source": [
    "print(metrics.monte_carlo_sim(\"how can ai help\", 1))"
   ]
  },
  {
   "cell_type": "code",
   "execution_count": null,
   "metadata": {},
   "outputs": [],
   "source": []
  },
  {
   "cell_type": "code",
   "execution_count": null,
   "metadata": {},
   "outputs": [],
   "source": []
  }
 ],
 "metadata": {
  "kernelspec": {
   "display_name": "nlp",
   "language": "python",
   "name": "python3"
  },
  "language_info": {
   "codemirror_mode": {
    "name": "ipython",
    "version": 3
   },
   "file_extension": ".py",
   "mimetype": "text/x-python",
   "name": "python",
   "nbconvert_exporter": "python",
   "pygments_lexer": "ipython3",
   "version": "3.10.12"
  }
 },
 "nbformat": 4,
 "nbformat_minor": 2
}
